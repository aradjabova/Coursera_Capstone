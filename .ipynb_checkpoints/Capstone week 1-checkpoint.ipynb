{
 "cells": [
  {
   "cell_type": "markdown",
   "metadata": {},
   "source": [
    "# Battle of the Capitals"
   ]
  },
  {
   "cell_type": "markdown",
   "metadata": {},
   "source": [
    "## Background"
   ]
  },
  {
   "cell_type": "markdown",
   "metadata": {},
   "source": [
    "New York and Toronto are the financial captials of their respective countries. They are huge influencers and impactors of their people. Wanting to know how similar or dissimilar they are, will give us a better understanding on cities and how persepective new businesses should set their mindsets. When considering the two major cities, it is key to know the demographic of the people, neighborhoods and demographics of the cities. Is New York City more like Toronto or Paris or some other multicultural city?"
   ]
  },
  {
   "cell_type": "markdown",
   "metadata": {},
   "source": [
    "## Data Required"
   ]
  },
  {
   "cell_type": "markdown",
   "metadata": {},
   "source": [
    "Number of venues in New York and Toronto? - how many venues and where are they currently located\n",
    "\n",
    "Foursquare can provide infromaton about the names and locations of the venues in the area, in paricular the area surround the proposed investment location. Specifically we need latitude,longitude, venue id and venue name\n",
    "\n",
    "Investment location? - where is this proposed location in relation to the other existing venues\n",
    "\n",
    "How Popular?\n",
    "\n",
    "We can look to measure the popularity of venues by looking at the count of likes. This data can then be linked with venue locations and displayed graphically to see trendy areas"
   ]
  }
 ],
 "metadata": {
  "kernelspec": {
   "display_name": "Python 3",
   "language": "python",
   "name": "python3"
  },
  "language_info": {
   "codemirror_mode": {
    "name": "ipython",
    "version": 3
   },
   "file_extension": ".py",
   "mimetype": "text/x-python",
   "name": "python",
   "nbconvert_exporter": "python",
   "pygments_lexer": "ipython3",
   "version": "3.6.12"
  },
  "toc": {
   "base_numbering": 1,
   "nav_menu": {},
   "number_sections": true,
   "sideBar": true,
   "skip_h1_title": false,
   "title_cell": "Table of Contents",
   "title_sidebar": "Contents",
   "toc_cell": false,
   "toc_position": {},
   "toc_section_display": true,
   "toc_window_display": false
  }
 },
 "nbformat": 4,
 "nbformat_minor": 4
}
